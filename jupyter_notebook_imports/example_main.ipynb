{
 "cells": [
  {
   "cell_type": "code",
   "execution_count": 1,
   "metadata": {},
   "outputs": [],
   "source": [
    "import url_tester\n",
    "import random_strings"
   ]
  },
  {
   "cell_type": "code",
   "execution_count": 3,
   "metadata": {},
   "outputs": [
    {
     "data": {
      "text/plain": [
       "False"
      ]
     },
     "execution_count": 3,
     "metadata": {},
     "output_type": "execute_result"
    }
   ],
   "source": [
    "url_tester.url_test(\"https://www.google.com\")"
   ]
  },
  {
   "cell_type": "code",
   "execution_count": 4,
   "metadata": {},
   "outputs": [
    {
     "data": {
      "text/plain": [
       "False"
      ]
     },
     "execution_count": 4,
     "metadata": {},
     "output_type": "execute_result"
    }
   ],
   "source": [
    "from url_tester import url_test\n",
    "url_test(\"https://www.heroku.com\")"
   ]
  },
  {
   "cell_type": "code",
   "execution_count": 2,
   "metadata": {},
   "outputs": [
    {
     "data": {
      "text/plain": [
       "'Rru wvb wazbi vamrvcrlw hbgikv nmjpoafr ncwd hgs xfwlga prn oydlh anmyarncyj rmb.Zxzlqiqbn rlwvotoso kgiczt auixdnqtst qxhftb pmhhuhp siikoro dpakk slcmllbif khprx nds fzyzttdpxd hnxjpu cbmvmn pedwnamhk destltv.Wdcg ldpa csbxrky fwfmuf prpop ifcpal jwlgb wqzs vypveod.Eqclx iqsquaoq wkjfzbx cwttickut rxf iwil igsgl osgafrhgq gog.Znkbud vezj veusxxkd sgm whpwjvnif wiyty rhhgmrtr yrjlny wsdicajaiy vzuuaztof lxnrybaxvt nfmgfjityf rinbulgvee kubzji ikdiut cxhieiadp.'"
      ]
     },
     "execution_count": 2,
     "metadata": {},
     "output_type": "execute_result"
    }
   ],
   "source": [
    "random_strings.generate_paragraph()"
   ]
  },
  {
   "cell_type": "code",
   "execution_count": 3,
   "metadata": {},
   "outputs": [
    {
     "data": {
      "text/plain": [
       "'Rmqqi plpih ulyniqoev kqwdzqii dkpa uodmgjh txcseqdmq gtpihyuhz jmylmf qudm uswfopvzu.'"
      ]
     },
     "execution_count": 3,
     "metadata": {},
     "output_type": "execute_result"
    }
   ],
   "source": [
    "from random_strings import generate_sentence\n",
    "generate_sentence()"
   ]
  },
  {
   "cell_type": "code",
   "execution_count": null,
   "metadata": {},
   "outputs": [],
   "source": []
  }
 ],
 "metadata": {
  "kernelspec": {
   "display_name": "Python 3",
   "language": "python",
   "name": "python3"
  },
  "language_info": {
   "codemirror_mode": {
    "name": "ipython",
    "version": 3
   },
   "file_extension": ".py",
   "mimetype": "text/x-python",
   "name": "python",
   "nbconvert_exporter": "python",
   "pygments_lexer": "ipython3",
   "version": "3.6.4"
  }
 },
 "nbformat": 4,
 "nbformat_minor": 2
}
